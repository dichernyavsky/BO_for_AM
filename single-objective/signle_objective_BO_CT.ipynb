{
 "cells": [
  {
   "cell_type": "markdown",
   "id": "0368393c-6cf2-49a3-9980-751d430d639d",
   "metadata": {
    "tags": []
   },
   "source": [
    "# Initial data description"
   ]
  },
  {
   "cell_type": "code",
   "execution_count": 1,
   "id": "7b1434d7-7548-474a-98c2-daba4e8c189f",
   "metadata": {
    "tags": []
   },
   "outputs": [],
   "source": [
    "import pandas as pd\n",
    "import matplotlib.pyplot as plt"
   ]
  },
  {
   "cell_type": "markdown",
   "id": "6f91779d-de15-4d8d-abf5-8a485f902657",
   "metadata": {},
   "source": [
    "Initial data (\"Initial dataset\" from Table II in [1])"
   ]
  },
  {
   "cell_type": "code",
   "execution_count": 2,
   "id": "ecc12195-8774-486d-b399-c31075a8ba0e",
   "metadata": {
    "tags": []
   },
   "outputs": [
    {
     "data": {
      "text/html": [
       "<div>\n",
       "<style scoped>\n",
       "    .dataframe tbody tr th:only-of-type {\n",
       "        vertical-align: middle;\n",
       "    }\n",
       "\n",
       "    .dataframe tbody tr th {\n",
       "        vertical-align: top;\n",
       "    }\n",
       "\n",
       "    .dataframe thead th {\n",
       "        text-align: right;\n",
       "    }\n",
       "</style>\n",
       "<table border=\"1\" class=\"dataframe\">\n",
       "  <thead>\n",
       "    <tr style=\"text-align: right;\">\n",
       "      <th></th>\n",
       "      <th>P (W)</th>\n",
       "      <th>v (mm/s)</th>\n",
       "      <th>h (mu m)</th>\n",
       "      <th>dens</th>\n",
       "    </tr>\n",
       "  </thead>\n",
       "  <tbody>\n",
       "    <tr>\n",
       "      <th>0</th>\n",
       "      <td>328</td>\n",
       "      <td>688</td>\n",
       "      <td>107</td>\n",
       "      <td>92.00</td>\n",
       "    </tr>\n",
       "    <tr>\n",
       "      <th>1</th>\n",
       "      <td>328</td>\n",
       "      <td>688</td>\n",
       "      <td>107</td>\n",
       "      <td>91.71</td>\n",
       "    </tr>\n",
       "    <tr>\n",
       "      <th>2</th>\n",
       "      <td>328</td>\n",
       "      <td>688</td>\n",
       "      <td>107</td>\n",
       "      <td>91.50</td>\n",
       "    </tr>\n",
       "    <tr>\n",
       "      <th>3</th>\n",
       "      <td>251</td>\n",
       "      <td>327</td>\n",
       "      <td>95</td>\n",
       "      <td>98.73</td>\n",
       "    </tr>\n",
       "    <tr>\n",
       "      <th>4</th>\n",
       "      <td>251</td>\n",
       "      <td>327</td>\n",
       "      <td>95</td>\n",
       "      <td>98.53</td>\n",
       "    </tr>\n",
       "  </tbody>\n",
       "</table>\n",
       "</div>"
      ],
      "text/plain": [
       "   P (W)  v (mm/s)  h (mu m)   dens\n",
       "0    328       688       107  92.00\n",
       "1    328       688       107  91.71\n",
       "2    328       688       107  91.50\n",
       "3    251       327        95  98.73\n",
       "4    251       327        95  98.53"
      ]
     },
     "execution_count": 2,
     "metadata": {},
     "output_type": "execute_result"
    }
   ],
   "source": [
    "df = pd.read_excel('initial_data_raw_CT.xlsx', index_col=0)\n",
    "df.head()"
   ]
  },
  {
   "cell_type": "markdown",
   "id": "b5ec0610-6027-4f5a-bd36-17645b93c472",
   "metadata": {
    "tags": []
   },
   "source": [
    "- **P**: laser power\n",
    "- **v**: laser velocity \n",
    "- **h**: hatching distance\n",
    "\n",
    "For each data point corresponding to a given set of process parameters and the measured density, we added two additional synthetic data points to ensure the stability of the GP algorithm. Here, we use a GP algorithm where the dispersion parameter is not a fixed hyperparameter but is instead fitted directly from the data. The inclusion of these synthetic points is also essential for accurately estimating the measurement uncertainty (see our [other paper](https://www.sciencedirect.com/science/article/pii/S0264127523001144))."
   ]
  },
  {
   "cell_type": "markdown",
   "id": "033b1790-8654-4353-b816-663c09fde4af",
   "metadata": {
    "tags": []
   },
   "source": [
    "# Single-objective BO"
   ]
  },
  {
   "cell_type": "markdown",
   "id": "68b39c8f-ee39-4df4-aa0e-070d8fc7a282",
   "metadata": {},
   "source": [
    "Here we define Expected improvement (EI) directly."
   ]
  },
  {
   "cell_type": "code",
   "execution_count": 3,
   "id": "1b60ed8a-6ea9-4595-85a2-51eec5487b6e",
   "metadata": {
    "tags": []
   },
   "outputs": [],
   "source": [
    "import numpy as np\n",
    "from scipy.stats import norm\n",
    "import warnings\n",
    "\n",
    "warnings.filterwarnings('ignore')\n",
    "\n",
    "\n",
    "def lattice_for_prediction(bounds, step):\n",
    "    \"\"\"\n",
    "    Generate a lattice with predefined bounds and dicretization rate (step) \n",
    "    \"\"\"\n",
    "        \n",
    "    grid = np.meshgrid(*[np.linspace(bounds[i][0], bounds[i][1], step) for i in range(len(bounds))])\n",
    "        \n",
    "    X_lattice = np.concatenate([grid[i].reshape(-1, 1) for i in range(len(bounds))], axis=1)\n",
    "\n",
    "    return X_lattice\n",
    "\n",
    "\n",
    "\n",
    "def EI(mu, sigma, mu_sample, gpr, xi=0):\n",
    "    '''\n",
    "    Computes the EI at points X based on existing samples X_sample\n",
    "    and Y_sample using a Gaussian process surrogate model.\n",
    "    \n",
    "    Returns:\n",
    "        Expected improvements at points X.\n",
    "    '''\n",
    "    \n",
    "    \n",
    "    mu_sample_opt = np.min(mu_sample)\n",
    "\n",
    "    with np.errstate(divide='warn'):\n",
    "        imp = mu_sample_opt-mu - xi\n",
    "        Z = imp / sigma\n",
    "        ei = imp * norm.cdf(Z) + sigma * norm.pdf(Z)\n",
    "        ei[sigma == 0.0] = 0.0\n",
    "    return ei \n",
    "\n",
    "\n",
    "def propose_location(acquisition, mu, sigma, mu_sample, gpr, X_lattice):\n",
    "    '''\n",
    "    Proposes the next sampling point by optimizing the acquisition function by\n",
    "    finding argmax EI(x)\n",
    "    \n",
    "    '''\n",
    "    acq_for_lattice = acquisition(mu, sigma, mu_sample, gpr)\n",
    "    \n",
    "      \n",
    "    return X_lattice[np.argmax(acq_for_lattice)]"
   ]
  },
  {
   "cell_type": "code",
   "execution_count": 4,
   "id": "60dbc783-d9ad-41f9-8d9a-962a4244d34d",
   "metadata": {
    "tags": []
   },
   "outputs": [],
   "source": [
    "from sklearn.preprocessing import MinMaxScaler \n",
    "from sklearn.metrics import mean_squared_error\n",
    "from sklearn.gaussian_process.kernels import RBF, Matern, ConstantKernel as C\n",
    "\n",
    "# Custom Gaussian Regression \n",
    "from scripts.gauss_custom import GaussianProcessRegressor \n",
    "\n",
    "coordinates = [ 'P (W)','v (mm/s)', 'h (mu m)']\n",
    "target = 'dens' \n",
    "\n",
    "X = df[coordinates].astype(float)\n",
    "target_vals = df[target].astype(float)"
   ]
  },
  {
   "cell_type": "code",
   "execution_count": 5,
   "id": "c85dc60d-738a-481b-927e-b61eb0306ae2",
   "metadata": {
    "tags": []
   },
   "outputs": [
    {
     "name": "stdout",
     "output_type": "stream",
     "text": [
      "RMSE,  0.2269511012290325\n"
     ]
    }
   ],
   "source": [
    "kernel = C(1.0, (1e-3, 1e3)) * Matern(length_scale=[3, 3, 3], length_scale_bounds=((1e-2, 1e5), (1e-2, 1e5), (1e-2, 1e5)),  nu=3/2)  \n",
    "surr = GaussianProcessRegressor(kernel=kernel, alpha_fit=True, n_restarts_optimizer=55)\n",
    "\n",
    "surr.fit(X, target_vals)\n",
    "\n",
    "predicted = surr.predict(X)\n",
    "\n",
    "print('RMSE, ', np.sqrt(mean_squared_error(target_vals, predicted )))"
   ]
  },
  {
   "cell_type": "markdown",
   "id": "d0a89f5d-80bb-4381-8e9f-19ae1f7cca4e",
   "metadata": {},
   "source": [
    "We slightly extend the boundaries beyond the original data ranges by adding margins equal to 3% of each parameter's range. This ensures that the borders used for analysis or visualization are broader than the actual dataset, providing improved stability and clearer boundary "
   ]
  },
  {
   "cell_type": "code",
   "execution_count": 6,
   "id": "90d6062d-45d3-472c-b8a6-089bf31a5978",
   "metadata": {
    "tags": []
   },
   "outputs": [],
   "source": [
    "bs0 = (df[coordinates[0]].max() - df[coordinates[0]].min())*3 /100 \n",
    "bs1 = (df[coordinates[1]].max() - df[coordinates[1]].min())*3 /100 \n",
    "bs2 =  (df[coordinates[2]].max() - df[coordinates[2]].min())*3 /100 \n",
    "\n",
    "\n",
    "bounds = [\n",
    "          [df[coordinates[0]].min() - bs0, df[coordinates[0]].max() +  bs0], \n",
    "          [df[coordinates[1]].min() - bs1, df[coordinates[1]].max()+  bs1],\n",
    "          [df[coordinates[2]].min()- bs2, df[coordinates[2]].max()+  bs2]\n",
    "          ]\n",
    "\n",
    "X_lat = lattice_for_prediction(bounds, step=50)\n",
    "\n",
    "\n",
    "mu, sigma = surr.predict(X_lat, return_std=True)\n",
    "mu_sample = df.dens.values"
   ]
  },
  {
   "cell_type": "code",
   "execution_count": 7,
   "id": "8f5393f8-46de-4faa-b75a-bfa70b64dd94",
   "metadata": {
    "tags": []
   },
   "outputs": [],
   "source": [
    "proposed_X = propose_location(EI,  -mu, sigma, -mu_sample, surr, X_lat)"
   ]
  },
  {
   "cell_type": "markdown",
   "id": "01454838-3855-4bcd-a784-86e0d838763e",
   "metadata": {},
   "source": [
    "This is the point predicted by the algorithm (see \"BO predicted (first iteration)\" from [1])."
   ]
  },
  {
   "cell_type": "code",
   "execution_count": 8,
   "id": "5e5eec39-5c79-4400-b8a0-5052f3a40d70",
   "metadata": {
    "tags": []
   },
   "outputs": [
    {
     "data": {
      "text/plain": [
       "array([254.25816327, 120.47      , 108.71      ])"
      ]
     },
     "execution_count": 8,
     "metadata": {},
     "output_type": "execute_result"
    }
   ],
   "source": [
    "proposed_X"
   ]
  }
 ],
 "metadata": {
  "kernelspec": {
   "display_name": "Python 3 (ipykernel)",
   "language": "python",
   "name": "python3"
  },
  "language_info": {
   "codemirror_mode": {
    "name": "ipython",
    "version": 3
   },
   "file_extension": ".py",
   "mimetype": "text/x-python",
   "name": "python",
   "nbconvert_exporter": "python",
   "pygments_lexer": "ipython3",
   "version": "3.11.7"
  }
 },
 "nbformat": 4,
 "nbformat_minor": 5
}
